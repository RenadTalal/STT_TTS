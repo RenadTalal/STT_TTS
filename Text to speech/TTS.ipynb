{
 "cells": [
  {
   "cell_type": "code",
   "execution_count": 1,
   "id": "8008c82e",
   "metadata": {},
   "outputs": [
    {
     "name": "stdout",
     "output_type": "stream",
     "text": [
      "Requirement already satisfied: ibm_watson in /Users/Renad/opt/anaconda3/lib/python3.8/site-packages (5.2.2)\r\n",
      "Requirement already satisfied: websocket-client==1.1.0 in /Users/Renad/opt/anaconda3/lib/python3.8/site-packages (from ibm_watson) (1.1.0)\r\n",
      "Requirement already satisfied: python-dateutil>=2.5.3 in /Users/Renad/opt/anaconda3/lib/python3.8/site-packages (from ibm_watson) (2.8.1)\r\n",
      "Requirement already satisfied: requests<3.0,>=2.0 in /Users/Renad/opt/anaconda3/lib/python3.8/site-packages (from ibm_watson) (2.25.1)\r\n",
      "Requirement already satisfied: ibm-cloud-sdk-core==3.*,>=3.3.6 in /Users/Renad/opt/anaconda3/lib/python3.8/site-packages (from ibm_watson) (3.10.1)\r\n",
      "Requirement already satisfied: PyJWT<3.0.0,>=2.0.1 in /Users/Renad/opt/anaconda3/lib/python3.8/site-packages (from ibm-cloud-sdk-core==3.*,>=3.3.6->ibm_watson) (2.1.0)\r\n",
      "Requirement already satisfied: six>=1.5 in /Users/Renad/opt/anaconda3/lib/python3.8/site-packages (from python-dateutil>=2.5.3->ibm_watson) (1.15.0)\r\n",
      "Requirement already satisfied: idna<3,>=2.5 in /Users/Renad/opt/anaconda3/lib/python3.8/site-packages (from requests<3.0,>=2.0->ibm_watson) (2.10)\r\n",
      "Requirement already satisfied: urllib3<1.27,>=1.21.1 in /Users/Renad/opt/anaconda3/lib/python3.8/site-packages (from requests<3.0,>=2.0->ibm_watson) (1.26.4)\r\n",
      "Requirement already satisfied: chardet<5,>=3.0.2 in /Users/Renad/opt/anaconda3/lib/python3.8/site-packages (from requests<3.0,>=2.0->ibm_watson) (4.0.0)\r\n",
      "Requirement already satisfied: certifi>=2017.4.17 in /Users/Renad/opt/anaconda3/lib/python3.8/site-packages (from requests<3.0,>=2.0->ibm_watson) (2020.12.5)\r\n"
     ]
    }
   ],
   "source": [
    "!pip install ibm_watson"
   ]
  },
  {
   "cell_type": "code",
   "execution_count": 2,
   "id": "ec8b54cb",
   "metadata": {},
   "outputs": [],
   "source": [
    "apikey = 'NuhKbqqTpakgW53C5LeJ9bHqkjsV93KTjzJ74s_B6gk6'\n",
    "url = 'https://api.us-south.text-to-speech.watson.cloud.ibm.com/instances/df5e6760-f43b-4560-a84a-890a4048e7e3'"
   ]
  },
  {
   "cell_type": "code",
   "execution_count": 4,
   "id": "b62fb001",
   "metadata": {},
   "outputs": [],
   "source": [
    "from ibm_watson import TextToSpeechV1\n",
    "from ibm_cloud_sdk_core.authenticators import IAMAuthenticator"
   ]
  },
  {
   "cell_type": "code",
   "execution_count": 6,
   "id": "0ac4e82d",
   "metadata": {},
   "outputs": [],
   "source": [
    "# Setup Service\n",
    "authenticator = IAMAuthenticator(apikey)\n",
    "#new TTS service\n",
    "tts = TextToSpeechV1(authenticator=authenticator)\n",
    "#Set service URL \n",
    "tts.set_service_url(url)"
   ]
  },
  {
   "cell_type": "code",
   "execution_count": 8,
   "id": "b7c2ec4f",
   "metadata": {},
   "outputs": [],
   "source": [
    "with open('./speech.mp3', 'wb') as audio_file:\n",
    "    res = tts.synthesize('Hello Renad!', accept='audio/mp3', voice='en-US_AllisonV3Voice').get_result()\n",
    "    audio_file.write(res.content)"
   ]
  },
  {
   "cell_type": "code",
   "execution_count": 25,
   "id": "e7ad66de",
   "metadata": {},
   "outputs": [],
   "source": [
    "with open('motiva.txt', 'r') as f:\n",
    "    text = f.readlines()"
   ]
  },
  {
   "cell_type": "code",
   "execution_count": 26,
   "id": "8f9e0ccd",
   "metadata": {},
   "outputs": [],
   "source": [
    "text = [line.replace('\\n','') for line in text]\n",
    "text = ''.join(str(line) for line in text)"
   ]
  },
  {
   "cell_type": "code",
   "execution_count": 30,
   "id": "50a9aae4",
   "metadata": {},
   "outputs": [],
   "source": [
    "with open('./motivation.mp3', 'wb') as audio_file:\n",
    "    res = tts.synthesize(text, accept='audio/mp3', voice='en-US_MichaelV3Voice').get_result()\n",
    "    audio_file.write(res.content)"
   ]
  },
  {
   "cell_type": "code",
   "execution_count": null,
   "id": "df494a6c",
   "metadata": {},
   "outputs": [],
   "source": []
  }
 ],
 "metadata": {
  "kernelspec": {
   "display_name": "Python 3",
   "language": "python",
   "name": "python3"
  },
  "language_info": {
   "codemirror_mode": {
    "name": "ipython",
    "version": 3
   },
   "file_extension": ".py",
   "mimetype": "text/x-python",
   "name": "python",
   "nbconvert_exporter": "python",
   "pygments_lexer": "ipython3",
   "version": "3.8.8"
  }
 },
 "nbformat": 4,
 "nbformat_minor": 5
}
